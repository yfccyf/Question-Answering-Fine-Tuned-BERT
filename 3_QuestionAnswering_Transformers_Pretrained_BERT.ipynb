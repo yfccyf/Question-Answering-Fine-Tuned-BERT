{
 "cells": [
  {
   "cell_type": "markdown",
   "id": "e62598e7",
   "metadata": {},
   "source": [
    "# Preprocessing"
   ]
  },
  {
   "cell_type": "code",
   "execution_count": 2,
   "id": "bff58110",
   "metadata": {},
   "outputs": [
    {
     "data": {
      "application/vnd.jupyter.widget-view+json": {
       "model_id": "cdc4c40988e64d11bd2fc00186437ba1",
       "version_major": 2,
       "version_minor": 0
      },
      "text/plain": [
       "Map:   0%|          | 0/10570 [00:00<?, ? examples/s]"
      ]
     },
     "metadata": {},
     "output_type": "display_data"
    }
   ],
   "source": [
    "# load in data\n",
    "from datasets import load_dataset\n",
    "raw_datasets = load_dataset(\"squad\")\n",
    "raw_datasets\n",
    "\n",
    "\n",
    "# tokenizer\n",
    "from transformers import AutoTokenizer\n",
    "\n",
    "model_checkpoint = \"distilbert-base-cased\"\n",
    "# model_checkpoint = \"bert-base-cased\" # try it yourself\n",
    "tokenizer = AutoTokenizer.from_pretrained(model_checkpoint)\n",
    "\n",
    "\n",
    "# find answer token idx\n",
    "def find_answer_token_idx(\n",
    "    ctx_start,\n",
    "    ctx_end,\n",
    "    ans_start_char,\n",
    "    ans_end_char,\n",
    "    offset):\n",
    "  \n",
    "  start_idx = 0\n",
    "  end_idx = 0\n",
    "\n",
    "  if offset[ctx_start][0] > ans_start_char or offset[ctx_end][1] < ans_end_char:\n",
    "    pass\n",
    "    # print(\"target is (0, 0)\")\n",
    "    # nothing else to do\n",
    "  else:\n",
    "    # find the start and end TOKEN positions\n",
    "\n",
    "    # the 'trick' is knowing what is in units of tokens and what is in\n",
    "    # units of characters\n",
    "\n",
    "    # recall: the offset_mapping contains the character positions of each token\n",
    "\n",
    "    i = ctx_start\n",
    "    for start_end_char in offset[ctx_start:]:\n",
    "      start, end = start_end_char\n",
    "      if start == ans_start_char:\n",
    "        start_idx = i\n",
    "        # don't break yet\n",
    "      \n",
    "      if end == ans_end_char:\n",
    "        end_idx = i\n",
    "        break\n",
    "\n",
    "      i += 1\n",
    "  return start_idx, end_idx\n",
    "\n",
    "\n",
    "# tokenize the training data\n",
    "# (i.e. expand question+context pairs into question+smaller context windows)\n",
    "\n",
    "# Google used 384 for SQuAD\n",
    "max_length = 384\n",
    "stride = 128\n",
    "\n",
    "def tokenize_fn_train(batch):\n",
    "  # some questions have leading and/or trailing whitespace\n",
    "  questions = [q.strip() for q in batch[\"question\"]]\n",
    "\n",
    "  # tokenize the data (with padding this time)\n",
    "  # since most contexts are long, we won't bother to pad per-minibatch\n",
    "  inputs = tokenizer(\n",
    "    questions,\n",
    "    batch[\"context\"],\n",
    "    max_length=max_length,\n",
    "    truncation=\"only_second\",\n",
    "    stride=stride,\n",
    "    return_overflowing_tokens=True,\n",
    "    return_offsets_mapping=True,\n",
    "    padding=\"max_length\",\n",
    "  )\n",
    "\n",
    "  # we don't need these later so remove them\n",
    "  offset_mapping = inputs.pop(\"offset_mapping\")\n",
    "  orig_sample_idxs = inputs.pop(\"overflow_to_sample_mapping\")\n",
    "  answers = batch['answers']\n",
    "  start_idxs, end_idxs = [], []\n",
    "\n",
    "  # same loop as above\n",
    "  for i, offset in enumerate(offset_mapping):\n",
    "    sample_idx = orig_sample_idxs[i]\n",
    "    answer = answers[sample_idx]\n",
    "\n",
    "    ans_start_char = answer['answer_start'][0]\n",
    "    ans_end_char = ans_start_char + len(answer['text'][0])\n",
    "\n",
    "    sequence_ids = inputs.sequence_ids(i)\n",
    "\n",
    "    # find start + end of context (first 1 and last 1)\n",
    "    ctx_start = sequence_ids.index(1)\n",
    "    ctx_end = len(sequence_ids) - sequence_ids[::-1].index(1) - 1\n",
    "\n",
    "    start_idx, end_idx = find_answer_token_idx(\n",
    "      ctx_start,\n",
    "      ctx_end,\n",
    "      ans_start_char,\n",
    "      ans_end_char,\n",
    "      offset)\n",
    "\n",
    "    start_idxs.append(start_idx)\n",
    "    end_idxs.append(end_idx)\n",
    "  \n",
    "  inputs[\"start_positions\"] = start_idxs\n",
    "  inputs[\"end_positions\"] = end_idxs\n",
    "  return inputs\n",
    "\n",
    "train_dataset = raw_datasets[\"train\"].map(\n",
    "  tokenize_fn_train,\n",
    "  batched=True,\n",
    "  remove_columns=raw_datasets[\"train\"].column_names,\n",
    ")\n",
    "\n",
    "\n",
    "# tokenize the validation set differently\n",
    "# we won't need the targets since we will just compare with the original answer\n",
    "# also: overwrite offset_mapping with Nones in place of question\n",
    "def tokenize_fn_validation(batch):\n",
    "  # some questions have leading and/or trailing whitespace\n",
    "  questions = [q.strip() for q in batch[\"question\"]]\n",
    "\n",
    "  # tokenize the data (with padding this time)\n",
    "  # since most contexts are long, we won't bother to pad per-minibatch\n",
    "  inputs = tokenizer(\n",
    "    questions,\n",
    "    batch[\"context\"],\n",
    "    max_length=max_length,\n",
    "    truncation=\"only_second\",\n",
    "    stride=stride,\n",
    "    return_overflowing_tokens=True,\n",
    "    return_offsets_mapping=True,\n",
    "    padding=\"max_length\",\n",
    "  )\n",
    "\n",
    "  # we don't need these later so remove them\n",
    "  orig_sample_idxs = inputs.pop(\"overflow_to_sample_mapping\")\n",
    "  sample_ids = []\n",
    "\n",
    "  # rewrite offset mapping by replacing question tuples with None\n",
    "  # this will be helpful later on when we compute metrics\n",
    "  for i in range(len(inputs[\"input_ids\"])):\n",
    "    sample_idx = orig_sample_idxs[i]\n",
    "    sample_ids.append(batch['id'][sample_idx])\n",
    "\n",
    "    sequence_ids = inputs.sequence_ids(i)\n",
    "    offset = inputs[\"offset_mapping\"][i]\n",
    "    inputs[\"offset_mapping\"][i] = [\n",
    "      x if sequence_ids[j] == 1 else None for j, x in enumerate(offset)]\n",
    "    \n",
    "  inputs['sample_id'] = sample_ids\n",
    "  return inputs\n",
    "\n",
    "validation_dataset = raw_datasets[\"validation\"].map(\n",
    "  tokenize_fn_validation,\n",
    "  batched=True,\n",
    "    remove_columns=raw_datasets[\"validation\"].column_names,\n",
    ")"
   ]
  },
  {
   "cell_type": "markdown",
   "id": "fde4bfb2",
   "metadata": {},
   "source": [
    "# Metrics"
   ]
  },
  {
   "cell_type": "code",
   "execution_count": 7,
   "id": "15ec4371",
   "metadata": {},
   "outputs": [],
   "source": [
    "# now let's define a full compute_metrics function\n",
    "# note: this will NOT be called from the trainer\n",
    "\n",
    "from tqdm.autonotebook import tqdm\n",
    "\n",
    "def compute_metrics(start_logits, end_logits, processed_dataset, orig_dataset):\n",
    "  # map sample_id ('56be4db0acb8001400a502ec') to row indices of processed data\n",
    "  sample_id2idxs = {}\n",
    "  for i, id_ in enumerate(processed_dataset['sample_id']):\n",
    "    if id_ not in sample_id2idxs:\n",
    "      sample_id2idxs[id_] = [i]\n",
    "    else:\n",
    "      sample_id2idxs[id_].append(i)\n",
    "\n",
    "  predicted_answers = []\n",
    "  for sample in tqdm(orig_dataset):\n",
    "\n",
    "    sample_id = sample['id']\n",
    "    context = sample['context']\n",
    "\n",
    "    # update these as we loop through candidate answers\n",
    "    best_score = float('-inf')\n",
    "    best_answer = None\n",
    "\n",
    "    # now loop through the *expanded* input samples (fixed size context windows)\n",
    "    # from here we will pick the highest probability start/end combination\n",
    "    for idx in sample_id2idxs[sample_id]:\n",
    "      start_logit = start_logits[idx] # (T,) vector\n",
    "      end_logit = end_logits[idx] # (T,) vector\n",
    "\n",
    "      # note: do NOT do the reverse: ['offset_mapping'][idx]\n",
    "      offsets = processed_dataset[idx]['offset_mapping']\n",
    "\n",
    "      start_indices = (-start_logit).argsort()\n",
    "      end_indices = (-end_logit).argsort()\n",
    "\n",
    "      for start_idx in start_indices[:n_largest]:\n",
    "        for end_idx in end_indices[:n_largest]:\n",
    "\n",
    "          # skip answers not contained in context window\n",
    "          # recall: we set entries not pertaining to context to None earlier\n",
    "          if offsets[start_idx] is None or offsets[end_idx] is None:\n",
    "            continue\n",
    "          \n",
    "          # skip answers where end < start\n",
    "          if end_idx < start_idx:\n",
    "            continue\n",
    "          \n",
    "          # skip answers that are too long\n",
    "          if end_idx - start_idx + 1 > max_answer_length:\n",
    "            continue\n",
    "          \n",
    "          # see theory lecture for score calculation\n",
    "          score = start_logit[start_idx] + end_logit[end_idx]\n",
    "          if score > best_score:\n",
    "            best_score = score\n",
    "\n",
    "            # find positions of start and end characters\n",
    "            # recall: offsets contains tuples for each token:\n",
    "            # (start_char, end_char)\n",
    "            first_ch = offsets[start_idx][0]\n",
    "            last_ch = offsets[end_idx][1]\n",
    "\n",
    "            best_answer = context[first_ch:last_ch]\n",
    "\n",
    "    # save best answer\n",
    "    predicted_answers.append({'id': sample_id, 'prediction_text': best_answer})\n",
    "  \n",
    "  # compute the metrics\n",
    "  true_answers = [\n",
    "    {'id': x['id'], 'answers': x['answers']} for x in orig_dataset\n",
    "  ]\n",
    "  return metric.compute(predictions=predicted_answers, references=true_answers)"
   ]
  },
  {
   "cell_type": "markdown",
   "id": "8b5a7b8d",
   "metadata": {},
   "source": [
    "# Train and Evaluate"
   ]
  },
  {
   "cell_type": "code",
   "execution_count": 8,
   "id": "f6850c20",
   "metadata": {},
   "outputs": [
    {
     "name": "stderr",
     "output_type": "stream",
     "text": [
      "Some weights of DistilBertForQuestionAnswering were not initialized from the model checkpoint at distilbert-base-cased and are newly initialized: ['qa_outputs.weight', 'qa_outputs.bias']\n",
      "You should probably TRAIN this model on a down-stream task to be able to use it for predictions and inference.\n"
     ]
    }
   ],
   "source": [
    "# now load the model we want to fine-tune\n",
    "model = AutoModelForQuestionAnswering.from_pretrained(model_checkpoint)"
   ]
  },
  {
   "cell_type": "code",
   "execution_count": 10,
   "id": "c3485e9e",
   "metadata": {},
   "outputs": [],
   "source": [
    "from transformers import TrainingArguments\n",
    "\n",
    "args = TrainingArguments(\n",
    "    \"finetuned-squad\",\n",
    "    evaluation_strategy=\"no\",\n",
    "    save_strategy=\"epoch\",\n",
    "    learning_rate=2e-5,\n",
    "    num_train_epochs=3,\n",
    "    weight_decay=0.01\n",
    ")"
   ]
  },
  {
   "cell_type": "code",
   "execution_count": 11,
   "id": "e8e7afd1",
   "metadata": {},
   "outputs": [
    {
     "name": "stdout",
     "output_type": "stream",
     "text": [
      "huggingface/tokenizers: The current process just got forked, after parallelism has already been used. Disabling parallelism to avoid deadlocks...\n",
      "To disable this warning, you can either:\n",
      "\t- Avoid using `tokenizers` before the fork if possible\n",
      "\t- Explicitly set the environment variable TOKENIZERS_PARALLELISM=(true | false)\n"
     ]
    },
    {
     "name": "stderr",
     "output_type": "stream",
     "text": [
      "You're using a DistilBertTokenizerFast tokenizer. Please note that with a fast tokenizer, using the `__call__` method is faster than using a method to encode the text followed by a call to the `pad` method to get a padded encoding.\n"
     ]
    },
    {
     "data": {
      "text/html": [
       "\n",
       "    <div>\n",
       "      \n",
       "      <progress value='76' max='33276' style='width:300px; height:20px; vertical-align: middle;'></progress>\n",
       "      [   76/33276 00:28 < 3:35:12, 2.57 it/s, Epoch 0.01/3]\n",
       "    </div>\n",
       "    <table border=\"1\" class=\"dataframe\">\n",
       "  <thead>\n",
       " <tr style=\"text-align: left;\">\n",
       "      <th>Step</th>\n",
       "      <th>Training Loss</th>\n",
       "    </tr>\n",
       "  </thead>\n",
       "  <tbody>\n",
       "  </tbody>\n",
       "</table><p>"
      ],
      "text/plain": [
       "<IPython.core.display.HTML object>"
      ]
     },
     "metadata": {},
     "output_type": "display_data"
    },
    {
     "name": "stderr",
     "output_type": "stream",
     "text": [
      "\n",
      "KeyboardInterrupt\n",
      "\n"
     ]
    }
   ],
   "source": [
    "from transformers import Trainer\n",
    "\n",
    "# takes ~2.5h with bert on full dataset\n",
    "# ~1h 15min with distilbert\n",
    "\n",
    "trainer = Trainer(\n",
    "    model=model,\n",
    "    args=args,\n",
    "    train_dataset=train_dataset,\n",
    "    # train_dataset=train_dataset.shuffle(seed=42).select(range(1_000)),\n",
    "    eval_dataset=validation_dataset,\n",
    "    tokenizer=tokenizer,\n",
    ")\n",
    "trainer.train()"
   ]
  },
  {
   "cell_type": "code",
   "execution_count": null,
   "id": "55f6b28e",
   "metadata": {},
   "outputs": [],
   "source": [
    "trainer_output = trainer.predict(validation_dataset)"
   ]
  },
  {
   "cell_type": "code",
   "execution_count": null,
   "id": "1364022c",
   "metadata": {},
   "outputs": [],
   "source": [
    "predictions, _, _ = trainer_output"
   ]
  },
  {
   "cell_type": "code",
   "execution_count": null,
   "id": "8fa3f5b3",
   "metadata": {},
   "outputs": [],
   "source": [
    "start_logits, end_logits = predictions"
   ]
  },
  {
   "cell_type": "code",
   "execution_count": null,
   "id": "460971b6",
   "metadata": {},
   "outputs": [],
   "source": [
    "compute_metrics(\n",
    "    start_logits,\n",
    "    end_logits,\n",
    "    validation_dataset, # processed\n",
    "    raw_datasets[\"validation\"], # orig\n",
    ")"
   ]
  },
  {
   "cell_type": "code",
   "execution_count": null,
   "id": "d8e9c40a",
   "metadata": {},
   "outputs": [],
   "source": [
    "trainer.save_model('my_saved_model')"
   ]
  },
  {
   "cell_type": "code",
   "execution_count": null,
   "id": "8707c282",
   "metadata": {},
   "outputs": [],
   "source": [
    "from transformers import pipeline\n",
    "\n",
    "qa = pipeline(\n",
    "  \"question-answering\",\n",
    "  model='my_saved_model',\n",
    "  device=0,\n",
    ")"
   ]
  },
  {
   "cell_type": "code",
   "execution_count": null,
   "id": "658d94e9",
   "metadata": {},
   "outputs": [],
   "source": [
    "context = \"Today I went to the store to purchase a carton of milk.\"\n",
    "question = \"What did I buy?\"\n",
    "\n",
    "qa(context=context, question=question)"
   ]
  }
 ],
 "metadata": {
  "kernelspec": {
   "display_name": "torchenv",
   "language": "python",
   "name": "torchenv"
  },
  "language_info": {
   "codemirror_mode": {
    "name": "ipython",
    "version": 3
   },
   "file_extension": ".py",
   "mimetype": "text/x-python",
   "name": "python",
   "nbconvert_exporter": "python",
   "pygments_lexer": "ipython3",
   "version": "3.9.18"
  }
 },
 "nbformat": 4,
 "nbformat_minor": 5
}
